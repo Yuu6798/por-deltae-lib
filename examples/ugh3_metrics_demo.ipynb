{
 "cells": [
  {
   "cell_type": "markdown",
   "metadata": {},
   "source": [
    "# UGH3 Metrics Demonstration\n",
    "This notebook shows how to compute PoR, ΔE and grv using sample data."
   ]
  },
  {
   "cell_type": "code",
   "metadata": {},
   "source": [
    "import csv\n",
    "import matplotlib.pyplot as plt\n",
    "from por_trigger import por_trigger\n",
    "from deltae_scoring import deltae_score\n",
    "from grv_scoring import grv_score"
   ],
   "execution_count": null,
   "outputs": []
  },
  {
   "cell_type": "code",
   "metadata": {},
   "source": [
    "rows = []\n",
    "with open('sample_data.csv') as f:\n",
    "    for row in csv.DictReader(f):\n",
    "        q = float(row['q']); s = float(row['s']); t = float(row['t'])\n",
    "        phi = float(row['phi_C']); D = float(row['D'])\n",
    "        E1 = float(row['E1']); E2 = float(row['E2'])\n",
    "        text = row['text']\n",
    "        por = por_trigger(q, s, t, phi, D)\n",
    "        delta_e = deltae_score(E1, E2)\n",
    "        grv = grv_score(text)\n",
    "        rows.append({**row, 'por_score': por['score'], 'trigger': por['triggered'], 'delta_e': delta_e, 'grv': grv})\n",
    "rows"
   ],
   "execution_count": null,
   "outputs": []
  },
  {
   "cell_type": "code",
   "metadata": {},
   "source": [
    "steps = [int(r['step']) for r in rows]\n",
    "por_scores = [r['por_score'] for r in rows]\n",
    "delta_es = [r['delta_e'] for r in rows]\n",
    "grvs = [r['grv'] for r in rows]\n",
    "plt.figure(figsize=(8,4))\n",
    "plt.plot(steps, por_scores, label='PoR')\n",
    "plt.plot(steps, delta_es, label='ΔE')\n",
    "plt.plot(steps, grvs, label='grv')\n",
    "plt.axhline(0.7, ls='--', color='C0', alpha=0.5)\n",
    "plt.axhline(0.5, ls='--', color='C1', alpha=0.5)\n",
    "plt.axhline(0.3, ls='--', color='C2', alpha=0.5)\n",
    "plt.xlabel('step')\n",
    "plt.ylabel('value')\n",
    "plt.legend()\n",
    "plt.tight_layout()\n",
    "plt.show()"
   ],
   "execution_count": null,
   "outputs": []
  },
  {
   "cell_type": "markdown",
   "metadata": {},
   "source": [
    "## Interpretation\n",
    "- **PoR > 0.7** indicates strong resonance.\n",
    "- **ΔE** around **0.5** suggests moderate change.\n",
    "- **grv** below **0.1** here means vocabulary is simple."
   ]
  }
 ],
 "metadata": {
  "kernelspec": {
   "display_name": "Python 3",
   "language": "python",
   "name": "python3"
  },
  "language_info": {
   "name": "python",
   "version": "3.x"
  }
 },
 "nbformat": 4,
 "nbformat_minor": 5
}
