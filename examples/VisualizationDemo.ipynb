{
 "cells": [
  {
   "cell_type": "markdown",
   "metadata": {},
   "source": "## Visualization Demo\n\nThis notebook demonstrates the PhaseMap metrics and basic tensor plotting using modules from the repository."
  },
  {
   "cell_type": "code",
   "metadata": {},
   "execution_count": null,
   "outputs": [],
   "source": "from phase_map_demo import generate_dummy_records, plot_records\n\nrecords = generate_dummy_records(n=5)\nfor r in records:\n    print(r)"
  },
  {
   "cell_type": "code",
   "metadata": {},
   "execution_count": null,
   "outputs": [],
   "source": "plot_records(records)"
  },
  {
   "cell_type": "markdown",
   "metadata": {},
   "source": "### Tensor Plotting Example\n\nThe code below shows how to visualise a small tensor using Matplotlib."
  },
  {
   "cell_type": "code",
   "metadata": {},
   "execution_count": null,
   "outputs": [],
   "source": "import numpy as np\nimport matplotlib.pyplot as plt\n\ntensor = np.random.rand(5, 5)\nplt.imshow(tensor, cmap='viridis')\nplt.colorbar(label='Value')\nplt.title('Random Tensor Heatmap')\nplt.show()"
  }
 ],
 "metadata": {
  "kernelspec": {
   "display_name": "Python 3",
   "language": "python",
   "name": "python3"
  },
  "language_info": {
   "name": "python",
   "pygments_lexer": "ipython3"
  }
 },
 "nbformat": 4,
 "nbformat_minor": 4
}
